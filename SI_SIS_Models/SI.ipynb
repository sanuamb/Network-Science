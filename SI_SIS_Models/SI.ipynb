{
 "cells": [
  {
   "cell_type": "code",
   "execution_count": 2,
   "metadata": {},
   "outputs": [],
   "source": [
    "import networkx as nx\n",
    "import numpy as np\n",
    "import matplotlib.pyplot as plt\n"
   ]
  },
  {
   "cell_type": "code",
   "execution_count": 10,
   "metadata": {},
   "outputs": [
    {
     "name": "stdout",
     "output_type": "stream",
     "text": [
      "{32, 4, 69, 6, 13, 78, 47, 49, 81, 29}\n"
     ]
    }
   ],
   "source": [
    "#a random graph on 1000 nodes\n",
    "G=nx.erdos_renyi_graph(100,0.1)\n",
    "#print(nx.info(G))\n",
    "infected_nodes=set(np.random.choice(G.nodes(),size=int(len(G)*0.1),replace=False))\n",
    "print()"
   ]
  },
  {
   "cell_type": "code",
   "execution_count": null,
   "metadata": {},
   "outputs": [],
   "source": [
    "#SI define\n",
    "def SI_model(initial_infected_nodes,tmax,beta):\n",
    "    \n",
    "    #generate intial infected nodes given the initial infected probability\n",
    "    infected_nodes_set=set(np.random.choice(G.nodes(),size=int(len(G)*0.1),replace=False))\n",
    "    \n",
    "    #Set attribute as infected or susciptible to the nodes using the synchronous approach\n",
    "    nx.set_node_attributes\n",
    "    \n",
    "    \n",
    "    "
   ]
  }
 ],
 "metadata": {
  "kernelspec": {
   "display_name": "Python 3",
   "language": "python",
   "name": "python3"
  },
  "language_info": {
   "codemirror_mode": {
    "name": "ipython",
    "version": 3
   },
   "file_extension": ".py",
   "mimetype": "text/x-python",
   "name": "python",
   "nbconvert_exporter": "python",
   "pygments_lexer": "ipython3",
   "version": "3.6.4"
  }
 },
 "nbformat": 4,
 "nbformat_minor": 2
}
