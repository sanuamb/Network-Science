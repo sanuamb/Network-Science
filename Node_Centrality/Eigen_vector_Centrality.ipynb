{
 "cells": [
  {
   "cell_type": "code",
   "execution_count": 5,
   "metadata": {},
   "outputs": [],
   "source": [
    "import networkx as nx\n",
    "import matplotlib.pyplot as plt\n",
    "G=nx.Graph()\n"
   ]
  },
  {
   "cell_type": "code",
   "execution_count": 6,
   "metadata": {},
   "outputs": [
    {
     "data": {
      "image/png": "[encoded data removed]",
      "text/plain": [
       "<matplotlib.figure.Figure at 0x1516b92d30>"
      ]
     },
     "metadata": {},
     "output_type": "display_data"
    }
   ],
   "source": [
    "G.add_node(0)\n",
    "G.add_node(1)\n",
    "G.add_node(2)\n",
    "G.add_node(3)\n",
    "G.add_node(4)\n",
    "G.add_node(5)\n",
    "G.add_node(6)\n",
    "G.add_node(7)\n",
    "G.add_node(8)\n",
    "G.add_node(9)\n",
    "G.add_node(10)\n",
    "\n",
    "#Add edges\n",
    "\n",
    "#Node 1\n",
    "G.add_edge(1,2)\n",
    "G.add_edge(1,3)\n",
    "G.add_edge(1,4)\n",
    "G.add_edge(1,5)\n",
    "G.add_edge(1,6)\n",
    "G.add_edge(1,7)\n",
    "G.add_edge(1,8)\n",
    "\n",
    "#Node 4\n",
    "G.add_edge(4,3)\n",
    "G.add_edge(4,5)\n",
    "G.add_edge(4,6)\n",
    "G.add_edge(4,7)\n",
    "G.add_edge(4,8)\n",
    "G.add_edge(4,9)\n",
    "G.add_edge(4,10)\n",
    "\n",
    "#Node 3\n",
    "G.add_edge(3,0)\n",
    "\n",
    "plt.figure()\n",
    "nx.draw(G,with_labels=True)\n",
    "plt.show()\n"
   ]
  },
  {
   "cell_type": "code",
   "execution_count": 13,
   "metadata": {},
   "outputs": [
    {
     "data": {
      "text/plain": [
       "[(0, 0.07285987637536592),\n",
       " (1, 0.5171638449975422),\n",
       " (2, 0.13093576621044958),\n",
       " (3, 0.2877790395639081),\n",
       " (4, 0.5466312213194858),\n",
       " (5, 0.26933215258942866),\n",
       " (6, 0.26933215258942866),\n",
       " (7, 0.26933215258942866),\n",
       " (8, 0.26933215258942866),\n",
       " (9, 0.13839638644384367),\n",
       " (10, 0.13839638644384367)]"
      ]
     },
     "execution_count": 13,
     "metadata": {},
     "output_type": "execute_result"
    }
   ],
   "source": [
    "centrality=nx.eigenvector_centrality(G)\n",
    "sorted((v,c) for v, c in centrality.items())"
   ]
  },
  {
   "cell_type": "code",
   "execution_count": 17,
   "metadata": {},
   "outputs": [
    {
     "name": "stdout",
     "output_type": "stream",
     "text": [
      "[0.27546351023156046, 1.9552567914600465, 0.49503276109570865, 1.0880148080534418, 2.066664981025702, 1.0182721116390816, 1.0182721116390816, 1.0182721116390816, 1.0182721116390816, 0.5232393507886083, 0.5232393507886083]\n"
     ]
    }
   ],
   "source": [
    "lst=[]\n",
    "for x,y in centrality.items():\n",
    "    lst.append(y)\n",
    "#print(lst)\n",
    "sum_lst=sum(lst)\n",
    "desired_sum=11\n",
    "for i in range(0,len(lst)):\n",
    "    lst[i]=(lst[i]*desired_sum)/sum_lst\n",
    "print(lst)\n"
   ]
  },
  {
   "cell_type": "code",
   "execution_count": null,
   "metadata": {
    "collapsed": true
   },
   "outputs": [],
   "source": []
  }
 ],
 "metadata": {
  "kernelspec": {
   "display_name": "Python 3",
   "language": "python",
   "name": "python3"
  },
  "language_info": {
   "codemirror_mode": {
    "name": "ipython",
    "version": 3
   },
   "file_extension": ".py",
   "mimetype": "text/x-python",
   "name": "python",
   "nbconvert_exporter": "python",
   "pygments_lexer": "ipython3",
   "version": "3.6.4"
  }
 },
 "nbformat": 4,
 "nbformat_minor": 2
}
